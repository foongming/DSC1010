{
 "cells": [
  {
   "cell_type": "markdown",
   "metadata": {},
   "source": [
    "# <center> Singapore Data Science Academy In-Class Practice 3 </center>\n",
    "---\n",
    "#### Conditionals, logic operators and iterations + In Class Notes + Quiz + Homework Assignment "
   ]
  },
  {
   "cell_type": "code",
   "execution_count": 1,
   "metadata": {},
   "outputs": [
    {
     "name": "stdout",
     "output_type": "stream",
     "text": [
      "0.6\n"
     ]
    }
   ],
   "source": [
    "side_a = 3\n",
    "side_b = 5\n",
    "sin_ = side_a/side_b\n",
    "print(sin_)"
   ]
  },
  {
   "cell_type": "code",
   "execution_count": 2,
   "metadata": {},
   "outputs": [],
   "source": [
    "def compute_sin(a,b):\n",
    "    return(a/b)"
   ]
  },
  {
   "cell_type": "code",
   "execution_count": 3,
   "metadata": {},
   "outputs": [
    {
     "data": {
      "text/plain": [
       "0.6"
      ]
     },
     "execution_count": 3,
     "metadata": {},
     "output_type": "execute_result"
    }
   ],
   "source": [
    "compute_sin(side_a,side_b)"
   ]
  },
  {
   "cell_type": "code",
   "execution_count": 4,
   "metadata": {},
   "outputs": [
    {
     "name": "stdout",
     "output_type": "stream",
     "text": [
      "Hello\n",
      "Fun\n",
      "Zip\n",
      "Hello\n",
      "Fun\n"
     ]
    }
   ],
   "source": [
    "def thing():\n",
    "    print('Hello')\n",
    "    print('Fun')\n",
    " \n",
    "thing()\n",
    "print('Zip')\n",
    "thing()"
   ]
  },
  {
   "cell_type": "code",
   "execution_count": 5,
   "metadata": {},
   "outputs": [
    {
     "name": "stdout",
     "output_type": "stream",
     "text": [
      "hello world\n"
     ]
    }
   ],
   "source": [
    "print(\"hello world\")"
   ]
  },
  {
   "cell_type": "code",
   "execution_count": 6,
   "metadata": {},
   "outputs": [
    {
     "name": "stdout",
     "output_type": "stream",
     "text": [
      "hello ren1\n",
      "hello ren2\n",
      "hello ren3\n"
     ]
    }
   ],
   "source": [
    "name_list = ['ren1','ren2','ren3']\n",
    "for i in name_list:\n",
    "    print(\"hello\", i)"
   ]
  },
  {
   "cell_type": "code",
   "execution_count": 7,
   "metadata": {},
   "outputs": [
    {
     "name": "stdout",
     "output_type": "stream",
     "text": [
      "morn ren3\n"
     ]
    }
   ],
   "source": [
    "def greet(greeting,name):\n",
    "    print(greeting, i)\n",
    "\n",
    "greet(\"morn\", \"person\")"
   ]
  },
  {
   "cell_type": "code",
   "execution_count": 8,
   "metadata": {},
   "outputs": [
    {
     "name": "stdout",
     "output_type": "stream",
     "text": [
      "good morning ren1\n",
      "good morning ren2\n",
      "good morning ren3\n"
     ]
    }
   ],
   "source": [
    "for i in name_list:\n",
    "    greet(\"good morning\", i)"
   ]
  },
  {
   "cell_type": "code",
   "execution_count": 9,
   "metadata": {},
   "outputs": [
    {
     "name": "stdout",
     "output_type": "stream",
     "text": [
      "25\n"
     ]
    }
   ],
   "source": [
    "num = 5\n",
    "def square_number(num):\n",
    "    print(num*num)\n",
    "\n",
    "square_number(num)\n",
    "\n",
    "#notice the difference between return and print"
   ]
  },
  {
   "cell_type": "code",
   "execution_count": 10,
   "metadata": {},
   "outputs": [],
   "source": [
    "def square(x):\n",
    "    return x*x"
   ]
  },
  {
   "cell_type": "code",
   "execution_count": 11,
   "metadata": {},
   "outputs": [
    {
     "name": "stdout",
     "output_type": "stream",
     "text": [
      "441\n",
      "49\n",
      "81\n"
     ]
    }
   ],
   "source": [
    "print(square(21))\n",
    "print(square(2+5))\n",
    "print(square(square(3)))"
   ]
  },
  {
   "cell_type": "code",
   "execution_count": 12,
   "metadata": {},
   "outputs": [],
   "source": [
    "def greet(lang):\n",
    "    if lang == 'es':\n",
    "        return 'Hola'\n",
    "    elif lang == 'fr':\n",
    "        return 'Bonjour'\n",
    "    else:\n",
    "        return 'Hello'\n"
   ]
  },
  {
   "cell_type": "code",
   "execution_count": 13,
   "metadata": {},
   "outputs": [
    {
     "name": "stdout",
     "output_type": "stream",
     "text": [
      "Hello Glenn\n",
      "Hola Sally\n",
      "Bonjour Michael\n"
     ]
    }
   ],
   "source": [
    "print(greet('en'),'Glenn')\n",
    "print(greet('es'),'Sally')\n",
    "print(greet('fr'),'Michael')"
   ]
  },
  {
   "cell_type": "code",
   "execution_count": 14,
   "metadata": {},
   "outputs": [
    {
     "data": {
      "text/plain": [
       "'Hello'"
      ]
     },
     "execution_count": 14,
     "metadata": {},
     "output_type": "execute_result"
    }
   ],
   "source": [
    "greet('hi')"
   ]
  },
  {
   "cell_type": "markdown",
   "metadata": {},
   "source": [
    "---\n",
    "\n",
    "# <center>CLASS 3A PRACTICE</center>\n",
    "\n",
    "### Functions"
   ]
  },
  {
   "cell_type": "code",
   "execution_count": 15,
   "metadata": {},
   "outputs": [
    {
     "data": {
      "text/plain": [
       "20"
      ]
     },
     "execution_count": 15,
     "metadata": {},
     "output_type": "execute_result"
    }
   ],
   "source": [
    "import numpy as np \n",
    "#Write a Python function to sum all the numbers in a list.\n",
    "question_1  = [8, 2, 3, 0, 7]\n",
    "#Expected Output : 20 \n",
    "def sum_all_numbers(x):\n",
    "    q1 = np.sum(question_1)\n",
    "    return q1\n",
    "\n",
    "sum_all_numbers(question_1)"
   ]
  },
  {
   "cell_type": "code",
   "execution_count": 16,
   "metadata": {},
   "outputs": [
    {
     "data": {
      "text/plain": [
       "42"
      ]
     },
     "execution_count": 16,
     "metadata": {},
     "output_type": "execute_result"
    }
   ],
   "source": [
    "#Write a Python function to multiply all the numbers in a list.\n",
    "question_2  = [1, 2, 3, 1, 7]\n",
    "#expected  = 42\n",
    "\n",
    "def multiply_all(x):\n",
    "    result = 1 \n",
    "    for n in question_2:\n",
    "        result = n * result\n",
    "    return result\n",
    "    \n",
    "multiply_all(question_2)"
   ]
  },
  {
   "cell_type": "code",
   "execution_count": 17,
   "metadata": {},
   "outputs": [
    {
     "name": "stdout",
     "output_type": "stream",
     "text": [
      "No. of Upper case characters : 4\n",
      "No. of Lower case Characters : 18\n"
     ]
    }
   ],
   "source": [
    "#Write a Python function that accepts a string and calculate the number of upper case letters and lower case letters.\n",
    "question_3 = 'My Name is Mr Pablo escobar'\n",
    "#Expected Output : \n",
    "#No. of Upper case characters : 4\n",
    "#No. of Lower case Characters : 18\n",
    "\n",
    "def upperlower(x): #hint: You are able to iterate strings using for loop. Also, google on 'how to check if a character is upper or lower. \n",
    "    upper = 0\n",
    "    lower = 0     \n",
    "    for charac in question_3:\n",
    "        if charac.isupper() == True:\n",
    "            upper += 1\n",
    "        elif charac.islower() == True:\n",
    "            lower += 1\n",
    "            \n",
    "    print(\"No. of Upper case characters : %i\" %upper)\n",
    "    print(\"No. of Lower case Characters : %i\" %lower)\n",
    "    \n",
    "upperlower(question_3)"
   ]
  },
  {
   "cell_type": "code",
   "execution_count": 18,
   "metadata": {},
   "outputs": [
    {
     "name": "stdout",
     "output_type": "stream",
     "text": [
      "True\n",
      "False\n"
     ]
    }
   ],
   "source": [
    "print( 'Z'.isupper())\n",
    "print( 'u'.isupper())"
   ]
  },
  {
   "cell_type": "code",
   "execution_count": 19,
   "metadata": {},
   "outputs": [
    {
     "name": "stdout",
     "output_type": "stream",
     "text": [
      "[2, 4, 6, 8]\n"
     ]
    }
   ],
   "source": [
    "#Write a Python program to create a new list, only keeping the even numbers, from a given list. Print the new list.\n",
    "question_4 =  [1, 2, 3, 4, 5, 6, 7, 8, 9] \n",
    "#Expected Result : [2, 4, 6, 8]\n",
    "def even(x):\n",
    "    result = []\n",
    "    for i in question_4:\n",
    "        if i % 2 == 0:\n",
    "            result.append(i)\n",
    "    print(result)\n",
    "    \n",
    "even(question_4) "
   ]
  },
  {
   "cell_type": "markdown",
   "metadata": {},
   "source": [
    "---\n",
    "\n",
    "# <center>CLASS 3B PRACTICE</center>\n",
    "\n",
    "### Abstraction"
   ]
  },
  {
   "cell_type": "markdown",
   "metadata": {},
   "source": [
    "#### First try fixing the error of a non-abstract function"
   ]
  },
  {
   "cell_type": "code",
   "execution_count": 20,
   "metadata": {},
   "outputs": [],
   "source": [
    "def hypotenuse(x,y):\n",
    "    return ((x*x)+(y*y))**0.5"
   ]
  },
  {
   "cell_type": "markdown",
   "metadata": {},
   "source": [
    "Correct answer should be 5"
   ]
  },
  {
   "cell_type": "code",
   "execution_count": 21,
   "metadata": {},
   "outputs": [
    {
     "data": {
      "text/plain": [
       "5.0"
      ]
     },
     "execution_count": 21,
     "metadata": {},
     "output_type": "execute_result"
    }
   ],
   "source": [
    "hypotenuse(3,4)"
   ]
  },
  {
   "cell_type": "markdown",
   "metadata": {},
   "source": [
    "#### Now try fixing the error of an abstract function. Realise how much easier it is!"
   ]
  },
  {
   "cell_type": "code",
   "execution_count": 22,
   "metadata": {},
   "outputs": [],
   "source": [
    "def hypotenuse(x,y):\n",
    "    return sqrt(sum_of_squares(x,y))\n",
    "\n",
    "def sqrt(a):\n",
    "    return a**0.5\n",
    "\n",
    "def sum_of_squares(x,y):\n",
    "    return square(x) + square(y)\n",
    "\n",
    "def square(x):\n",
    "    return x * x\n"
   ]
  },
  {
   "cell_type": "code",
   "execution_count": 23,
   "metadata": {},
   "outputs": [
    {
     "data": {
      "text/plain": [
       "5.0"
      ]
     },
     "execution_count": 23,
     "metadata": {},
     "output_type": "execute_result"
    }
   ],
   "source": [
    "hypotenuse(3,4)"
   ]
  },
  {
   "cell_type": "markdown",
   "metadata": {},
   "source": [
    "#### Which `age` are we referring to?"
   ]
  },
  {
   "cell_type": "code",
   "execution_count": 24,
   "metadata": {},
   "outputs": [
    {
     "name": "stdout",
     "output_type": "stream",
     "text": [
      "250\n"
     ]
    }
   ],
   "source": [
    "age = 23\n",
    "\n",
    "def age_multiplier(x):\n",
    "    age = 25\n",
    "    print(x * age)\n",
    "\n",
    "age_multiplier(10)\n",
    "\n",
    "#python will first check within the local scope, then it will check the global scope"
   ]
  },
  {
   "cell_type": "markdown",
   "metadata": {},
   "source": [
    "#### Will value of global variable `y` change?"
   ]
  },
  {
   "cell_type": "code",
   "execution_count": 25,
   "metadata": {},
   "outputs": [
    {
     "name": "stdout",
     "output_type": "stream",
     "text": [
      "20\n",
      "10\n"
     ]
    }
   ],
   "source": [
    "#concept of variable scope \n",
    "\n",
    "y = 10\n",
    "\n",
    "def change_value(n):\n",
    "    y = n\n",
    "    print(y)\n",
    "\n",
    "change_value(20)\n",
    "print(y)"
   ]
  },
  {
   "cell_type": "code",
   "execution_count": 26,
   "metadata": {},
   "outputs": [],
   "source": [
    "import math"
   ]
  },
  {
   "cell_type": "code",
   "execution_count": 27,
   "metadata": {},
   "outputs": [
    {
     "data": {
      "text/plain": [
       "25"
      ]
     },
     "execution_count": 27,
     "metadata": {},
     "output_type": "execute_result"
    }
   ],
   "source": [
    "math.floor(sum([5,10,8,7.5])+ min([5,10,8,7.5]) - max([5,10,8,7.5]))"
   ]
  },
  {
   "cell_type": "code",
   "execution_count": 28,
   "metadata": {},
   "outputs": [
    {
     "name": "stdout",
     "output_type": "stream",
     "text": [
      "25\n",
      "12\n",
      "53\n"
     ]
    }
   ],
   "source": [
    "def abstract(x):\n",
    "    return math.floor(sum(x)+min(x)-max(x))\n",
    "    \n",
    "print(abstract([5,10,8,7.5]))\n",
    "print(abstract([3,1.7,6,7.1]))\n",
    "print(abstract([3,1.7,6,7.1,11,23.4,32.1]))"
   ]
  },
  {
   "cell_type": "markdown",
   "metadata": {},
   "source": [
    "Parking fee:\n",
    "\n",
    "• First two hours : $10 flat\n",
    "• Subsequent 2 hours: $4/hour\n",
    "• Thereafter: $3/hour"
   ]
  },
  {
   "cell_type": "code",
   "execution_count": 29,
   "metadata": {},
   "outputs": [],
   "source": [
    "def calc_parking(hours):\n",
    "    if hours <3:\n",
    "        return 10\n",
    "    elif hours <4:\n",
    "        return 14\n",
    "    elif hours <5:\n",
    "        return 18\n",
    "    else: \n",
    "        return ((hours - 4)*3)+18"
   ]
  },
  {
   "cell_type": "markdown",
   "metadata": {},
   "source": [
    "`calc_parking(1)` will return you `10`, while `calc_parking(10)` will return you `36`"
   ]
  },
  {
   "cell_type": "code",
   "execution_count": 30,
   "metadata": {},
   "outputs": [
    {
     "data": {
      "text/plain": [
       "10"
      ]
     },
     "execution_count": 30,
     "metadata": {},
     "output_type": "execute_result"
    }
   ],
   "source": [
    "calc_parking(1)"
   ]
  },
  {
   "cell_type": "code",
   "execution_count": 31,
   "metadata": {},
   "outputs": [
    {
     "data": {
      "text/plain": [
       "36"
      ]
     },
     "execution_count": 31,
     "metadata": {},
     "output_type": "execute_result"
    }
   ],
   "source": [
    "calc_parking(10)"
   ]
  },
  {
   "cell_type": "code",
   "execution_count": 32,
   "metadata": {},
   "outputs": [],
   "source": [
    "def dynamic_parking(hours, first_stage_rate, second_stage_rate, last_stage_rate):\n",
    "    if hours <3:\n",
    "        return first_stage_rate\n",
    "    elif hours <4:\n",
    "        return first_stage_rate + second_stage_rate\n",
    "    elif hours <5:\n",
    "        return first_stage_rate + second_stage_rate + second_stage_rate\n",
    "    else:\n",
    "        return ((hours - 4)*last_stage_rate)+ first_stage_rate + second_stage_rate + second_stage_rate"
   ]
  },
  {
   "cell_type": "code",
   "execution_count": 33,
   "metadata": {},
   "outputs": [
    {
     "data": {
      "text/plain": [
       "36"
      ]
     },
     "execution_count": 33,
     "metadata": {},
     "output_type": "execute_result"
    }
   ],
   "source": [
    "dynamic_parking(10,10,4,3)"
   ]
  },
  {
   "cell_type": "markdown",
   "metadata": {},
   "source": [
    "#### Given a list of lists, `car_brands`, each nested list containing a car manufacturer and the respective year of information. Here is some information of each column:\n",
    "- 1st column: respective year\n",
    "- 2nd column: maker\n",
    "- 3rd column: new vehicle registration\n",
    "- 4th column: total vehicle population\n",
    "\n",
    "Analyze `car_brands` variable before attempting. \n",
    "Hint: type of `str` should be converted to `int` for numerical comparison"
   ]
  },
  {
   "cell_type": "code",
   "execution_count": 34,
   "metadata": {},
   "outputs": [],
   "source": [
    "car_brands = [['2001', 'B.M.W.', '2281', '17088'],\n",
    "     ['2002', 'B.M.W.', '2261', '16531'],\n",
    "     ['2003', 'B.M.W.', '2146', '15127'],\n",
    "     ['2004', 'B.M.W.', '2996', '14966'],\n",
    "     ['2005', 'B.M.W.', '3486', '15351'],\n",
    "     ['2006', 'B.M.W.', '3692', '16527'],\n",
    "     ['2007', 'B.M.W.', '3732', '18321'],\n",
    "     ['2008', 'B.M.W.', '3856', '20434'],\n",
    "     ['2009', 'B.M.W.', '3926', '22871'],\n",
    "     ['2010', 'B.M.W.', '4708', '26411'],\n",
    "     ['2011', 'B.M.W.', '4959', '30496'],\n",
    "     ['2001', 'Mercedes Benz', '4463', '41197'],\n",
    "     ['2002', 'Mercedes Benz', '3183', '37529'],\n",
    "     ['2003', 'Mercedes Benz', '3745', '33586'],\n",
    "     ['2004', 'Mercedes Benz', '3261', '30332'],\n",
    "     ['2005', 'Mercedes Benz', '2812', '27230'],\n",
    "     ['2006', 'Mercedes Benz', '3299', '25150'],\n",
    "     ['2007', 'Mercedes Benz', '3875', '24999'],\n",
    "     ['2008', 'Mercedes Benz', '4122', '25896'],\n",
    "     ['2009', 'Mercedes Benz', '3997', '27621'],\n",
    "     ['2010', 'Mercedes Benz', '4705', '30467'],\n",
    "     ['2011', 'Mercedes Benz', '4166', '33057'],\n",
    "     ['2001', 'Toyota', '13300', '71513'],\n",
    "     ['2002', 'Toyota', '17675', '80068'],\n",
    "     ['2003', 'Toyota', '25065', '92015'],\n",
    "     ['2004', 'Toyota', '28629', '106751'],\n",
    "     ['2005', 'Toyota', '31127', '120560'],\n",
    "     ['2006', 'Toyota', '35326', '135799'],\n",
    "     ['2007', 'Toyota', '27574', '146597'],\n",
    "     ['2008', 'Toyota', '24818', '154948'],\n",
    "     ['2009', 'Toyota', '17555', '161074'],\n",
    "     ['2010', 'Toyota', '6927', '162125'],\n",
    "     ['2011', 'Toyota', '3562', '159749'],\n",
    "     ['2001', 'Volkswagen', '769', '3610'],\n",
    "     ['2002', 'Volkswagen', '480', '3610'],\n",
    "     ['2003', 'Volkswagen', '384', '3479'],\n",
    "     ['2004', 'Volkswagen', '290', '3092'],\n",
    "     ['2005', 'Volkswagen', '660', '2923'],\n",
    "     ['2006', 'Volkswagen', '585', '2900'],\n",
    "     ['2007', 'Volkswagen', '942', '3475'],\n",
    "     ['2008', 'Volkswagen', '1290', '4474'],\n",
    "     ['2009', 'Volkswagen', '2530', '6780'],\n",
    "     ['2010', 'Volkswagen', '3486', '10123'],\n",
    "     ['2011', 'Volkswagen', '3204', '13223'],\n",
    "     ['2001', 'Audi', '327', '2513'],\n",
    "     ['2002', 'Audi', '276', '2030'],\n",
    "     ['2003', 'Audi', '386', '1840'],\n",
    "     ['2004', 'Audi', '461', '1892'],\n",
    "     ['2005', 'Audi', '537', '2025'],\n",
    "     ['2006', 'Audi', '651', '2386'],\n",
    "     ['2007', 'Audi', '964', '3115'],\n",
    "     ['2008', 'Audi', '1340', '4223'],\n",
    "     ['2009', 'Audi', '1555', '5590'],\n",
    "     ['2010', 'Audi', '2199', '7645'],\n",
    "     ['2011', 'Audi', '2111', '9641'],\n",
    "     ['2001', 'Hyundai', '5023', '21188'],\n",
    "     ['2002', 'Hyundai', '4828', '22393'],\n",
    "     ['2003', 'Hyundai', '9056', '26848'],\n",
    "     ['2004', 'Hyundai', '13796', '34835'],\n",
    "     ['2005', 'Hyundai', '12860', '41650'],\n",
    "     ['2006', 'Hyundai', '10007', '45393'],\n",
    "     ['2007', 'Hyundai', '5408', '44798'],\n",
    "     ['2008', 'Hyundai', '3985', '41708'],\n",
    "     ['2009', 'Hyundai', '6639', '43907'],\n",
    "     ['2010', 'Hyundai', '2437', '44031'],\n",
    "     ['2011', 'Hyundai', '1289', '44177'],\n",
    "     ['2001', 'Kia', '1873', '3303'],\n",
    "     ['2002', 'Kia', '1826', '5039'],\n",
    "     ['2003', 'Kia', '2108', '6651'],\n",
    "     ['2004', 'Kia', '3023', '8240'],\n",
    "     ['2005', 'Kia', '5518', '12079'],\n",
    "     ['2006', 'Kia', '5056', '15558'],\n",
    "     ['2007', 'Kia', '2451', '16591'],\n",
    "     ['2008', 'Kia', '1991', '16927'],\n",
    "     ['2009', 'Kia', '4300', '19899'],\n",
    "     ['2010', 'Kia', '2934', '22285'],\n",
    "     ['2011', 'Kia', '953', '22987'],\n",
    "     ['2001', 'Honda', '6277', '50871'],\n",
    "     ['2002', 'Honda', '6692', '49242'],\n",
    "     ['2003', 'Honda', '8762', '47584'],\n",
    "     ['2004', 'Honda', '9997', '46848'],\n",
    "     ['2005', 'Honda', '11274', '47816'],\n",
    "     ['2006', 'Honda', '14964', '53792'],\n",
    "     ['2007', 'Honda', '21215', '67830'],\n",
    "     ['2008', 'Honda', '24591', '85768'],\n",
    "     ['2009', 'Honda', '9584', '90861'],\n",
    "     ['2010', 'Honda', '3272', '91494'],\n",
    "     ['2011', 'Honda', '942', '89969'],\n",
    "     ['2001', 'Volvo', '1145', '6083'],\n",
    "     ['2002', 'Volvo', '802', '5497'],\n",
    "     ['2003', 'Volvo', '1103', '5427'],\n",
    "     ['2004', 'Volvo', '1298', '5449'],\n",
    "     ['2005', 'Volvo', '1137', '5366'],\n",
    "     ['2006', 'Volvo', '892', '5416'],\n",
    "     ['2007', 'Volvo', '984', '5759'],\n",
    "     ['2008', 'Volvo', '800', '5899'],\n",
    "     ['2009', 'Volvo', '848', '6165'],\n",
    "     ['2010', 'Volvo', '816', '6607'],\n",
    "     ['2011', 'Volvo', '835', '7148'],\n",
    "     ['2001', 'Nissan', '15598', '60785'],\n",
    "     ['2002', 'Nissan', '10739', '66042'],\n",
    "     ['2003', 'Nissan', '11387', '67433'],\n",
    "     ['2004', 'Nissan', '12523', '65935'],\n",
    "     ['2005', 'Nissan', '17034', '65368'],\n",
    "     ['2006', 'Nissan', '14768', '64904'],\n",
    "     ['2007', 'Nissan', '9625', '64507'],\n",
    "     ['2008', 'Nissan', '6229', '61701'],\n",
    "     ['2009', 'Nissan', '3973', '59590'],\n",
    "     ['2010', 'Nissan', '1798', '58442'],\n",
    "     ['2011', 'Nissan', '800', '56380'],\n",
    "     ['2001', 'Chevrolet', '0', '0'],\n",
    "     ['2002', 'Chevrolet', '0', '0'],\n",
    "     ['2003', 'Chevrolet', '190', '0'],\n",
    "     ['2004', 'Chevrolet', '1478', '1668'],\n",
    "     ['2005', 'Chevrolet', '2032', '3699'],\n",
    "     ['2006', 'Chevrolet', '2601', '6251'],\n",
    "     ['2007', 'Chevrolet', '2134', '8161'],\n",
    "     ['2008', 'Chevrolet', '1372', '8951'],\n",
    "     ['2009', 'Chevrolet', '1533', '9973'],\n",
    "     ['2010', 'Chevrolet', '963', '10653'],\n",
    "     ['2011', 'Chevrolet', '645', '11202'],\n",
    "     ['2001', 'Porsche', '52', '547'],\n",
    "     ['2002', 'Porsche', '55', '559'],\n",
    "     ['2003', 'Porsche', '91', '603'],\n",
    "     ['2004', 'Porsche', '88', '655'],\n",
    "     ['2005', 'Porsche', '137', '763'],\n",
    "     ['2006', 'Porsche', '168', '912'],\n",
    "     ['2007', 'Porsche', '337', '1242'],\n",
    "     ['2008', 'Porsche', '327', '1554'],\n",
    "     ['2009', 'Porsche', '303', '1822'],\n",
    "     ['2010', 'Porsche', '448', '2250'],\n",
    "     ['2011', 'Porsche', '584', '2784'],\n",
    "     ['2001', 'Peugeot', '368', '1446'],\n",
    "     ['2002', 'Peugeot', '358', '1386'],\n",
    "     ['2003', 'Peugeot', '467', '1620'],\n",
    "     ['2004', 'Peugeot', '392', '1807'],\n",
    "     ['2005', 'Peugeot', '535', '2033'],\n",
    "     ['2006', 'Peugeot', '560', '2202'],\n",
    "     ['2007', 'Peugeot', '494', '2387'],\n",
    "     ['2008', 'Peugeot', '384', '2476'],\n",
    "     ['2009', 'Peugeot', '387', '2645'],\n",
    "     ['2010', 'Peugeot', '259', '2739'],\n",
    "     ['2011', 'Peugeot', '460', '3117'],\n",
    "     ['2001', 'Jaguar', '274', '1709'],\n",
    "     ['2002', 'Jaguar', '349', '1787'],\n",
    "     ['2003', 'Jaguar', '383', '1813'],\n",
    "     ['2004', 'Jaguar', '462', '1958'],\n",
    "     ['2005', 'Jaguar', '307', '1952'],\n",
    "     ['2006', 'Jaguar', '220', '1862'],\n",
    "     ['2007', 'Jaguar', '182', '1826'],\n",
    "     ['2008', 'Jaguar', '229', '1851'],\n",
    "     ['2009', 'Jaguar', '217', '1888'],\n",
    "     ['2010', 'Jaguar', '339', '2062'],\n",
    "     ['2011', 'Jaguar', '389', '2355'],\n",
    "     ['2001', 'Mini', '0', '0'],\n",
    "     ['2002', 'Mini', '60', '0'],\n",
    "     ['2003', 'Mini', '162', '221'],\n",
    "     ['2004', 'Mini', '164', '386'],\n",
    "     ['2005', 'Mini', '166', '547'],\n",
    "     ['2006', 'Mini', '212', '744'],\n",
    "     ['2007', 'Mini', '290', '984'],\n",
    "     ['2008', 'Mini', '298', '1227'],\n",
    "     ['2009', 'Mini', '222', '1384'],\n",
    "     ['2010', 'Mini', '312', '1656'],\n",
    "     ['2011', 'Mini', '363', '2010'],\n",
    "     ['2001', 'Citroen', '280', '1157'],\n",
    "     ['2002', 'Citroen', '247', '1194'],\n",
    "     ['2003', 'Citroen', '103', '1045'],\n",
    "     ['2004', 'Citroen', '67', '851'],\n",
    "     ['2005', 'Citroen', '67', '696'],\n",
    "     ['2006', 'Citroen', '47', '514'],\n",
    "     ['2007', 'Citroen', '247', '615'],\n",
    "     ['2008', 'Citroen', '209', '730'],\n",
    "     ['2009', 'Citroen', '284', '948'],\n",
    "     ['2010', 'Citroen', '375', '1275'],\n",
    "     ['2011', 'Citroen', '346', '1582'],\n",
    "     ['2001', 'Suzuki', '416', '14010'],\n",
    "     ['2002', 'Suzuki', '705', '12652'],\n",
    "     ['2003', 'Suzuki', '910', '10252'],\n",
    "     ['2004', 'Suzuki', '1264', '8227'],\n",
    "     ['2005', 'Suzuki', '1557', '7200'],\n",
    "     ['2006', 'Suzuki', '2768', '8201'],\n",
    "     ['2007', 'Suzuki', '4158', '11263'],\n",
    "     ['2008', 'Suzuki', '3306', '13641'],\n",
    "     ['2009', 'Suzuki', '1583', '14592'],\n",
    "     ['2010', 'Suzuki', '607', '14863'],\n",
    "     ['2011', 'Suzuki', '275', '14778'],\n",
    "     ['2001', 'Mazda', '2838', '13664'],\n",
    "     ['2002', 'Mazda', '2685', '14065'],\n",
    "     ['2003', 'Mazda', '4198', '15669'],\n",
    "     ['2004', 'Mazda', '4817', '18130'],\n",
    "     ['2005', 'Mazda', '5055', '19998'],\n",
    "     ['2006', 'Mazda', '4646', '21161'],\n",
    "     ['2007', 'Mazda', '4427', '22495'],\n",
    "     ['2008', 'Mazda', '3330', '22647'],\n",
    "     ['2009', 'Mazda', '1635', '22334'],\n",
    "     ['2010', 'Mazda', '1243', '22527'],\n",
    "     ['2011', 'Mazda', '265', '21990'],\n",
    "     ['2001', 'Renault', '924', '3975'],\n",
    "     ['2002', 'Renault', '656', '3922'],\n",
    "     ['2003', 'Renault', '459', '3517'],\n",
    "     ['2004', 'Renault', '841', '3485'],\n",
    "     ['2005', 'Renault', '820', '3430'],\n",
    "     ['2006', 'Renault', '518', '3139'],\n",
    "     ['2007', 'Renault', '456', '3019'],\n",
    "     ['2008', 'Renault', '309', '2798'],\n",
    "     ['2009', 'Renault', '288', '2661'],\n",
    "     ['2010', 'Renault', '166', '2574'],\n",
    "     ['2011', 'Renault', '263', '2702'],\n",
    "     ['2001', 'Ford', '1696', '9184'],\n",
    "     ['2002', 'Ford', '1911', '9525'],\n",
    "     ['2003', 'Ford', '1466', '8995'],\n",
    "     ['2004', 'Ford', '907', '8183'],\n",
    "     ['2005', 'Ford', '996', '7243'],\n",
    "     ['2006', 'Ford', '718', '6036'],\n",
    "     ['2007', 'Ford', '334', '4878'],\n",
    "     ['2008', 'Ford', '224', '4045'],\n",
    "     ['2009', 'Ford', '381', '3788'],\n",
    "     ['2010', 'Ford', '347', '3762'],\n",
    "     ['2011', 'Ford', '238', '3716'],\n",
    "     ['2001', 'Land Rover', '41', '215'],\n",
    "     ['2002', 'Land Rover', '18', '201'],\n",
    "     ['2003', 'Land Rover', '34', '177'],\n",
    "     ['2004', 'Land Rover', '24', '304'],\n",
    "     ['2005', 'Land Rover', '34', '280'],\n",
    "     ['2006', 'Land Rover', '32', '257'],\n",
    "     ['2007', 'Land Rover', '41', '249'],\n",
    "     ['2008', 'Land Rover', '35', '259'],\n",
    "     ['2009', 'Land Rover', '64', '305'],\n",
    "     ['2010', 'Land Rover', '97', '392'],\n",
    "     ['2011', 'Land Rover', '233', '615'],\n",
    "     ['2001', 'Subaru', '655', '5128'],\n",
    "     ['2002', 'Subaru', '1020', '5062'],\n",
    "     ['2003', 'Subaru', '1237', '5227'],\n",
    "     ['2004', 'Subaru', '1503', '5856'],\n",
    "     ['2005', 'Subaru', '1558', '6351'],\n",
    "     ['2006', 'Subaru', '2408', '7600'],\n",
    "     ['2007', 'Subaru', '3297', '9949'],\n",
    "     ['2008', 'Subaru', '3401', '12446'],\n",
    "     ['2009', 'Subaru', '1664', '13463'],\n",
    "     ['2010', 'Subaru', '888', '13929'],\n",
    "     ['2011', 'Subaru', '216', '13882'],\n",
    "     ['2001', 'Mitsubishi', '4964', '32853'],\n",
    "     ['2002', 'Mitsubishi', '4161', '32448'],\n",
    "     ['2003', 'Mitsubishi', '5638', '31721'],\n",
    "     ['2004', 'Mitsubishi', '5843', '30337'],\n",
    "     ['2005', 'Mitsubishi', '6422', '29416'],\n",
    "     ['2006', 'Mitsubishi', '8751', '31264'],\n",
    "     ['2007', 'Mitsubishi', '8335', '34542'],\n",
    "     ['2008', 'Mitsubishi', '6862', '36805'],\n",
    "     ['2009', 'Mitsubishi', '2765', '36846'],\n",
    "     ['2010', 'Mitsubishi', '960', '36412'],\n",
    "     ['2011', 'Mitsubishi', '201', '35558'],\n",
    "     ['2001', 'Fiat', '0', '2047'],\n",
    "     ['2002', 'Fiat', '0', '1425'],\n",
    "     ['2003', 'Fiat', '0', '791'],\n",
    "     ['2004', 'Fiat', '0', '360'],\n",
    "     ['2005', 'Fiat', '252', '382'],\n",
    "     ['2006', 'Fiat', '464', '770'],\n",
    "     ['2007', 'Fiat', '649', '1404'],\n",
    "     ['2008', 'Fiat', '396', '1775'],\n",
    "     ['2009', 'Fiat', '314', '2032'],\n",
    "     ['2010', 'Fiat', '257', '2246'],\n",
    "     ['2011', 'Fiat', '129', '2354'],\n",
    "     ['2001', 'Ferrari', '16', '159'],\n",
    "     ['2002', 'Ferrari', '15', '158'],\n",
    "     ['2003', 'Ferrari', '5', '141'],\n",
    "     ['2004', 'Ferrari', '23', '148'],\n",
    "     ['2005', 'Ferrari', '35', '166'],\n",
    "     ['2006', 'Ferrari', '26', '178'],\n",
    "     ['2007', 'Ferrari', '53', '221'],\n",
    "     ['2008', 'Ferrari', '45', '264'],\n",
    "     ['2009', 'Ferrari', '32', '294'],\n",
    "     ['2010', 'Ferrari', '69', '360'],\n",
    "     ['2011', 'Ferrari', '92', '449'],\n",
    "     ['2001', 'Maserati', '5', '24'],\n",
    "     ['2002', 'Maserati', '8', '30'],\n",
    "     ['2003', 'Maserati', '13', '40'],\n",
    "     ['2004', 'Maserati', '24', '59'],\n",
    "     ['2005', 'Maserati', '26', '78'],\n",
    "     ['2006', 'Maserati', '30', '105'],\n",
    "     ['2007', 'Maserati', '45', '143'],\n",
    "     ['2008', 'Maserati', '87', '227'],\n",
    "     ['2009', 'Maserati', '76', '300'],\n",
    "     ['2010', 'Maserati', '90', '382'],\n",
    "     ['2011', 'Maserati', '91', '469'],\n",
    "     ['2001', 'Proton', '826', '13934'],\n",
    "     ['2002', 'Proton', '303', '11109'],\n",
    "     ['2003', 'Proton', '86', '7200'],\n",
    "     ['2004', 'Proton', '1051', '5393'],\n",
    "     ['2005', 'Proton', '1058', '4612'],\n",
    "     ['2006', 'Proton', '1185', '4630'],\n",
    "     ['2007', 'Proton', '677', '4642'],\n",
    "     ['2008', 'Proton', '476', '4486'],\n",
    "     ['2009', 'Proton', '413', '4462'],\n",
    "     ['2010', 'Proton', '256', '4467'],\n",
    "     ['2011', 'Proton', '75', '4281'],\n",
    "     ['2001', 'Skoda', '258', '364'],\n",
    "     ['2002', 'Skoda', '84', '443'],\n",
    "     ['2003', 'Skoda', '85', '517'],\n",
    "     ['2004', 'Skoda', '61', '516'],\n",
    "     ['2005', 'Skoda', '60', '425'],\n",
    "     ['2006', 'Skoda', '65', '372'],\n",
    "     ['2007', 'Skoda', '61', '323'],\n",
    "     ['2008', 'Skoda', '17', '273'],\n",
    "     ['2009', 'Skoda', '103', '341'],\n",
    "     ['2010', 'Skoda', '105', '424'],\n",
    "     ['2011', 'Skoda', '65', '478'],\n",
    "     ['2001', 'Opel', '909', '4800'],\n",
    "     ['2002', 'Opel', '493', '4121'],\n",
    "     ['2003', 'Opel', '304', '3373'],\n",
    "     ['2004', 'Opel', '439', '2834'],\n",
    "     ['2005', 'Opel', '499', '2319'],\n",
    "     ['2006', 'Opel', '420', '2142'],\n",
    "     ['2007', 'Opel', '309', '2082'],\n",
    "     ['2008', 'Opel', '209', '1965'],\n",
    "     ['2009', 'Opel', '151', '1830'],\n",
    "     ['2010', 'Opel', '89', '1794'],\n",
    "     ['2011', 'Opel', '62', '1768'],\n",
    "     ['2001', 'Bentley', '7', '37'],\n",
    "     ['2002', 'Bentley', '0', '30'],\n",
    "     ['2003', 'Bentley', '0', '29'],\n",
    "     ['2004', 'Bentley', '26', '50'],\n",
    "     ['2005', 'Bentley', '22', '68'],\n",
    "     ['2006', 'Bentley', '36', '103'],\n",
    "     ['2007', 'Bentley', '37', '138'],\n",
    "     ['2008', 'Bentley', '41', '179'],\n",
    "     ['2009', 'Bentley', '45', '219'],\n",
    "     ['2010', 'Bentley', '49', '268'],\n",
    "     ['2011', 'Bentley', '60', '324'],\n",
    "     ['2001', 'Lamborghini', '0', '0'],\n",
    "     ['2002', 'Lamborghini', '6', '15'],\n",
    "     ['2003', 'Lamborghini', '0', '16'],\n",
    "     ['2004', 'Lamborghini', '20', '36'],\n",
    "     ['2005', 'Lamborghini', '19', '53'],\n",
    "     ['2006', 'Lamborghini', '29', '80'],\n",
    "     ['2007', 'Lamborghini', '34', '110'],\n",
    "     ['2008', 'Lamborghini', '49', '156'],\n",
    "     ['2009', 'Lamborghini', '54', '201'],\n",
    "     ['2010', 'Lamborghini', '53', '250'],\n",
    "     ['2011', 'Lamborghini', '49', '291'],\n",
    "     ['2001', 'Alfa Romeo', '195', '1058'],\n",
    "     ['2002', 'Alfa Romeo', '116', '929'],\n",
    "     ['2003', 'Alfa Romeo', '191', '975'],\n",
    "     ['2004', 'Alfa Romeo', '146', '945'],\n",
    "     ['2005', 'Alfa Romeo', '138', '914'],\n",
    "     ['2006', 'Alfa Romeo', '96', '866'],\n",
    "     ['2007', 'Alfa Romeo', '169', '900'],\n",
    "     ['2008', 'Alfa Romeo', '75', '858'],\n",
    "     ['2009', 'Alfa Romeo', '138', '886'],\n",
    "     ['2010', 'Alfa Romeo', '105', '924'],\n",
    "     ['2011', 'Alfa Romeo', '48', '925'],\n",
    "     ['2001', 'Saab', '306', '1654'],\n",
    "     ['2002', 'Saab', '273', '1504'],\n",
    "     ['2003', 'Saab', '314', '1504'],\n",
    "     ['2004', 'Saab', '322', '1612'],\n",
    "     ['2005', 'Saab', '247', '1597'],\n",
    "     ['2006', 'Saab', '262', '1588'],\n",
    "     ['2007', 'Saab', '210', '1574'],\n",
    "     ['2008', 'Saab', '117', '1499'],\n",
    "     ['2009', 'Saab', '65', '1365'],\n",
    "     ['2010', 'Saab', '13', '1250'],\n",
    "     ['2011', 'Saab', '42', '1213'],\n",
    "     ['2001', 'Daihatsu', '95', '5082'],\n",
    "     ['2002', 'Daihatsu', '81', '4013'],\n",
    "     ['2003', 'Daihatsu', '121', '3251'],\n",
    "     ['2004', 'Daihatsu', '123', '2631'],\n",
    "     ['2005', 'Daihatsu', '189', '2065'],\n",
    "     ['2006', 'Daihatsu', '415', '1769'],\n",
    "     ['2007', 'Daihatsu', '694', '2044'],\n",
    "     ['2008', 'Daihatsu', '716', '2538'],\n",
    "     ['2009', 'Daihatsu', '198', '2577'],\n",
    "     ['2010', 'Daihatsu', '83', '2557'],\n",
    "     ['2011', 'Daihatsu', '40', '2484'],\n",
    "     ['2001', 'Rolls Royce', '0', '125'],\n",
    "     ['2002', 'Rolls Royce', '0', '115'],\n",
    "     ['2003', 'Rolls Royce', '0', '106'],\n",
    "     ['2004', 'Rolls Royce', '5', '104'],\n",
    "     ['2005', 'Rolls Royce', '9', '104'],\n",
    "     ['2006', 'Rolls Royce', '5', '116'],\n",
    "     ['2007', 'Rolls Royce', '7', '116'],\n",
    "     ['2008', 'Rolls Royce', '14', '127'],\n",
    "     ['2009', 'Rolls Royce', '10', '138'],\n",
    "     ['2010', 'Rolls Royce', '37', '172'],\n",
    "     ['2011', 'Rolls Royce', '39', '205'],\n",
    "     ['2001', 'Chrysler', '19', '160'],\n",
    "     ['2002', 'Chrysler', '56', '191'],\n",
    "     ['2003', 'Chrysler', '86', '229'],\n",
    "     ['2004', 'Chrysler', '124', '308'],\n",
    "     ['2005', 'Chrysler', '157', '422'],\n",
    "     ['2006', 'Chrysler', '201', '576'],\n",
    "     ['2007', 'Chrysler', '140', '670'],\n",
    "     ['2008', 'Chrysler', '92', '698'],\n",
    "     ['2009', 'Chrysler', '53', '696'],\n",
    "     ['2010', 'Chrysler', '32', '661'],\n",
    "     ['2011', 'Chrysler', '29', '657'],\n",
    "     ['2001', 'Chery', '0', '0'],\n",
    "     ['2002', 'Chery', '0', '0'],\n",
    "     ['2003', 'Chery', '0', '0'],\n",
    "     ['2004', 'Chery', '0', '0'],\n",
    "     ['2005', 'Chery', '0', '0'],\n",
    "     ['2006', 'Chery', '269', '269'],\n",
    "     ['2007', 'Chery', '637', '906'],\n",
    "     ['2008', 'Chery', '578', '1466'],\n",
    "     ['2009', 'Chery', '309', '1687'],\n",
    "     ['2010', 'Chery', '139', '1759'],\n",
    "     ['2011', 'Chery', '28', '1758'],\n",
    "     ['2001', 'Aston Martin', '0', '16'],\n",
    "     ['2002', 'Aston Martin', '0', '15'],\n",
    "     ['2003', 'Aston Martin', '0', '16'],\n",
    "     ['2004', 'Aston Martin', '0', '16'],\n",
    "     ['2005', 'Aston Martin', '8', '23'],\n",
    "     ['2006', 'Aston Martin', '11', '34'],\n",
    "     ['2007', 'Aston Martin', '20', '54'],\n",
    "     ['2008', 'Aston Martin', '24', '77'],\n",
    "     ['2009', 'Aston Martin', '25', '100'],\n",
    "     ['2010', 'Aston Martin', '34', '134'],\n",
    "     ['2011', 'Aston Martin', '25', '158'],\n",
    "     ['2001', 'Ssangyong', '0', '53'],\n",
    "     ['2002', 'Ssangyong', '5', '36'],\n",
    "     ['2003', 'Ssangyong', '40', '63'],\n",
    "     ['2004', 'Ssangyong', '23', '78'],\n",
    "     ['2005', 'Ssangyong', '21', '93'],\n",
    "     ['2006', 'Ssangyong', '54', '133'],\n",
    "     ['2007', 'Ssangyong', '77', '196'],\n",
    "     ['2008', 'Ssangyong', '135', '308'],\n",
    "     ['2009', 'Ssangyong', '60', '350'],\n",
    "     ['2010', 'Ssangyong', '21', '358'],\n",
    "     ['2011', 'Ssangyong', '19', '369'],\n",
    "     ['2001', 'Jeep', '0', '0'],\n",
    "     ['2002', 'Jeep', '0', '0'],\n",
    "     ['2003', 'Jeep', '5', '6'],\n",
    "     ['2004', 'Jeep', '23', '29'],\n",
    "     ['2005', 'Jeep', '12', '41'],\n",
    "     ['2006', 'Jeep', '24', '63'],\n",
    "     ['2007', 'Jeep', '32', '86'],\n",
    "     ['2008', 'Jeep', '31', '108'],\n",
    "     ['2009', 'Jeep', '15', '117'],\n",
    "     ['2010', 'Jeep', '16', '132'],\n",
    "     ['2011', 'Jeep', '17', '146'],\n",
    "     ['2001', 'Perodua', '51', '493'],\n",
    "     ['2002', 'Perodua', '58', '543'],\n",
    "     ['2003', 'Perodua', '113', '606'],\n",
    "     ['2004', 'Perodua', '289', '758'],\n",
    "     ['2005', 'Perodua', '475', '1060'],\n",
    "     ['2006', 'Perodua', '533', '1446'],\n",
    "     ['2007', 'Perodua', '579', '1905'],\n",
    "     ['2008', 'Perodua', '426', '2193'],\n",
    "     ['2009', 'Perodua', '305', '2408'],\n",
    "     ['2010', 'Perodua', '169', '2535'],\n",
    "     ['2011', 'Perodua', '15', '2529'],\n",
    "     ['2001', 'Lotus', '9', '74'],\n",
    "     ['2002', 'Lotus', '0', '74'],\n",
    "     ['2003', 'Lotus', '0', '65'],\n",
    "     ['2004', 'Lotus', '0', '62'],\n",
    "     ['2005', 'Lotus', '7', '64'],\n",
    "     ['2006', 'Lotus', '10', '70'],\n",
    "     ['2007', 'Lotus', '5', '75'],\n",
    "     ['2008', 'Lotus', '21', '94'],\n",
    "     ['2009', 'Lotus', '9', '101'],\n",
    "     ['2010', 'Lotus', '16', '115'],\n",
    "     ['2011', 'Lotus', '14', '126'],\n",
    "     ['2001', 'Infiniti', '0', '0'],\n",
    "     ['2002', 'Infiniti', '0', '0'],\n",
    "     ['2003', 'Infiniti', '0', '0'],\n",
    "     ['2004', 'Infiniti', '0', '0'],\n",
    "     ['2005', 'Infiniti', '0', '0'],\n",
    "     ['2006', 'Infiniti', '0', '0'],\n",
    "     ['2007', 'Infiniti', '0', '0'],\n",
    "     ['2008', 'Infiniti', '0', '0'],\n",
    "     ['2009', 'Infiniti', '0', '0'],\n",
    "     ['2010', 'Infiniti', '0', '0'],\n",
    "     ['2011', 'Infiniti', '7', '7'],\n",
    "     ['2001', 'Smart', '0', '0'],\n",
    "     ['2002', 'Smart', '0', '0'],\n",
    "     ['2003', 'Smart', '6', '7'],\n",
    "     ['2004', 'Smart', '0', '7'],\n",
    "     ['2005', 'Smart', '0', '0'],\n",
    "     ['2006', 'Smart', '0', '0'],\n",
    "     ['2007', 'Smart', '0', '0'],\n",
    "     ['2008', 'Smart', '0', '0'],\n",
    "     ['2009', 'Smart', '0', '0'],\n",
    "     ['2010', 'Smart', '0', '0'],\n",
    "     ['2011', 'Smart', '0', '0'],\n",
    "     ['2001', 'Hafei', '0', '0'],\n",
    "     ['2002', 'Hafei', '0', '0'],\n",
    "     ['2003', 'Hafei', '0', '0'],\n",
    "     ['2004', 'Hafei', '0', '0'],\n",
    "     ['2005', 'Hafei', '0', '0'],\n",
    "     ['2006', 'Hafei', '0', '0'],\n",
    "     ['2007', 'Hafei', '168', '168'],\n",
    "     ['2008', 'Hafei', '129', '297'],\n",
    "     ['2009', 'Hafei', '36', '326'],\n",
    "     ['2010', 'Hafei', '11', '333'],\n",
    "     ['2011', 'Hafei', '0', '330'],\n",
    "     ['2001', 'Mitsuoka', '0', '0'],\n",
    "     ['2002', 'Mitsuoka', '0', '0'],\n",
    "     ['2003', 'Mitsuoka', '0', '0'],\n",
    "     ['2004', 'Mitsuoka', '0', '0'],\n",
    "     ['2005', 'Mitsuoka', '0', '0'],\n",
    "     ['2006', 'Mitsuoka', '0', '0'],\n",
    "     ['2007', 'Mitsuoka', '23', '26'],\n",
    "     ['2008', 'Mitsuoka', '5', '31'],\n",
    "     ['2009', 'Mitsuoka', '0', '30'],\n",
    "     ['2010', 'Mitsuoka', '8', '38'],\n",
    "     ['2011', 'Mitsuoka', '0', '39'],\n",
    "     ['2001', 'Rover', '220', '6424'],\n",
    "     ['2002', 'Rover', '140', '3789'],\n",
    "     ['2003', 'Rover', '79', '1792'],\n",
    "     ['2004', 'Rover', '16', '859'],\n",
    "     ['2005', 'Rover', '0', '416'],\n",
    "     ['2006', 'Rover', '0', '212'],\n",
    "     ['2007', 'Rover', '0', '122'],\n",
    "     ['2008', 'Rover', '0', '75'],\n",
    "     ['2009', 'Rover', '0', '54'],\n",
    "     ['2010', 'Rover', '0', '39'],\n",
    "     ['2011', 'Rover', '0', '34'],\n",
    "     ['2001', 'Chana', '0', '0'],\n",
    "     ['2002', 'Chana', '0', '0'],\n",
    "     ['2003', 'Chana', '0', '0'],\n",
    "     ['2004', 'Chana', '0', '0'],\n",
    "     ['2005', 'Chana', '0', '0'],\n",
    "     ['2006', 'Chana', '0', '0'],\n",
    "     ['2007', 'Chana', '0', '0'],\n",
    "     ['2008', 'Chana', '39', '39'],\n",
    "     ['2009', 'Chana', '27', '66'],\n",
    "     ['2010', 'Chana', '0', '66'],\n",
    "     ['2011', 'Chana', '0', '66'],\n",
    "     ['2001', 'Daewoo', '494', '3850'],\n",
    "     ['2002', 'Daewoo', '249', '2923'],\n",
    "     ['2003', 'Daewoo', '304', '2058'],\n",
    "     ['2004', 'Daewoo', '0', '1287'],\n",
    "     ['2005', 'Daewoo', '0', '817'],\n",
    "     ['2006', 'Daewoo', '0', '487'],\n",
    "     ['2007', 'Daewoo', '0', '286'],\n",
    "     ['2008', 'Daewoo', '0', '175'],\n",
    "     ['2009', 'Daewoo', '0', '115'],\n",
    "     ['2010', 'Daewoo', '0', '77'],\n",
    "     ['2011', 'Daewoo', '0', '47'],\n",
    "     ['2001', 'Dodge', '0', '0'],\n",
    "     ['2002', 'Dodge', '0', '0'],\n",
    "     ['2003', 'Dodge', '0', '0'],\n",
    "     ['2004', 'Dodge', '0', '0'],\n",
    "     ['2005', 'Dodge', '0', '0'],\n",
    "     ['2006', 'Dodge', '6', '6'],\n",
    "     ['2007', 'Dodge', '33', '39'],\n",
    "     ['2008', 'Dodge', '7', '46'],\n",
    "     ['2009', 'Dodge', '0', '45'],\n",
    "     ['2010', 'Dodge', '6', '51'],\n",
    "     ['2011', 'Dodge', '0', '51'],\n",
    "     ['2001', 'Dongfeng', '0', '0'],\n",
    "     ['2002', 'Dongfeng', '0', '0'],\n",
    "     ['2003', 'Dongfeng', '0', '0'],\n",
    "     ['2004', 'Dongfeng', '0', '0'],\n",
    "     ['2005', 'Dongfeng', '0', '0'],\n",
    "     ['2006', 'Dongfeng', '0', '0'],\n",
    "     ['2007', 'Dongfeng', '33', '33'],\n",
    "     ['2008', 'Dongfeng', '31', '64'],\n",
    "     ['2009', 'Dongfeng', '33', '97'],\n",
    "     ['2010', 'Dongfeng', '8', '103'],\n",
    "     ['2011', 'Dongfeng', '0', '103'],\n",
    "     ['2001', 'Geely', '0', '0'],\n",
    "     ['2002', 'Geely', '0', '0'],\n",
    "     ['2003', 'Geely', '0', '0'],\n",
    "     ['2004', 'Geely', '0', '0'],\n",
    "     ['2005', 'Geely', '0', '0'],\n",
    "     ['2006', 'Geely', '19', '19'],\n",
    "     ['2007', 'Geely', '505', '523'],\n",
    "     ['2008', 'Geely', '178', '697'],\n",
    "     ['2009', 'Geely', '78', '763'],\n",
    "     ['2010', 'Geely', '26', '770'],\n",
    "     ['2011', 'Geely', '0', '757'],\n",
    "     ['2001', 'Golden Dragon', '0', '0'],\n",
    "     ['2002', 'Golden Dragon', '0', '0'],\n",
    "     ['2003', 'Golden Dragon', '0', '0'],\n",
    "     ['2004', 'Golden Dragon', '0', '0'],\n",
    "     ['2005', 'Golden Dragon', '0', '0'],\n",
    "     ['2006', 'Golden Dragon', '0', '0'],\n",
    "     ['2007', 'Golden Dragon', '0', '0'],\n",
    "     ['2008', 'Golden Dragon', '5', '5'],\n",
    "     ['2009', 'Golden Dragon', '0', '6'],\n",
    "     ['2010', 'Golden Dragon', '0', '6'],\n",
    "     ['2011', 'Golden Dragon', '0', '6'],\n",
    "     ['2001', 'Hummer', '0', '0'],\n",
    "     ['2002', 'Hummer', '0', '0'],\n",
    "     ['2003', 'Hummer', '0', '0'],\n",
    "     ['2004', 'Hummer', '0', '0'],\n",
    "     ['2005', 'Hummer', '0', '0'],\n",
    "     ['2006', 'Hummer', '0', '0'],\n",
    "     ['2007', 'Hummer', '0', '0'],\n",
    "     ['2008', 'Hummer', '0', '0'],\n",
    "     ['2009', 'Hummer', '17', '17'],\n",
    "     ['2010', 'Hummer', '6', '23'],\n",
    "     ['2011', 'Hummer', '0', '23'],\n",
    "     ['2001', 'Naza', '0', '0'],\n",
    "     ['2002', 'Naza', '0', '0'],\n",
    "     ['2003', 'Naza', '0', '0'],\n",
    "     ['2004', 'Naza', '0', '0'],\n",
    "     ['2005', 'Naza', '0', '0'],\n",
    "     ['2006', 'Naza', '0', '0'],\n",
    "     ['2007', 'Naza', '0', '0'],\n",
    "     ['2008', 'Naza', '27', '27'],\n",
    "     ['2009', 'Naza', '0', '28'],\n",
    "     ['2010', 'Naza', '0', '31'],\n",
    "     ['2011', 'Naza', '0', '31'],\n",
    "     ['2001', 'Seat', '161', '1151'],\n",
    "     ['2002', 'Seat', '72', '920'],\n",
    "     ['2003', 'Seat', '11', '648'],\n",
    "     ['2004', 'Seat', '0', '422'],\n",
    "     ['2005', 'Seat', '0', '233'],\n",
    "     ['2006', 'Seat', '0', '113'],\n",
    "     ['2007', 'Seat', '0', '62'],\n",
    "     ['2008', 'Seat', '0', '44'],\n",
    "     ['2009', 'Seat', '0', '26'],\n",
    "     ['2010', 'Seat', '0', '14'],\n",
    "     ['2011', 'Seat', '0', '5'],\n",
    "     ['2001', 'Wuling', '0', '0'],\n",
    "     ['2002', 'Wuling', '0', '0'],\n",
    "     ['2003', 'Wuling', '0', '0'],\n",
    "     ['2004', 'Wuling', '0', '0'],\n",
    "     ['2005', 'Wuling', '0', '0'],\n",
    "     ['2006', 'Wuling', '0', '0'],\n",
    "     ['2007', 'Wuling', '0', '0'],\n",
    "     ['2008', 'Wuling', '53', '53'],\n",
    "     ['2009', 'Wuling', '8', '61'],\n",
    "     ['2010', 'Wuling', '0', '60'],\n",
    "     ['2011', 'Wuling', '0', '59'],\n",
    "     ['2001', 'Zotye', '0', '0'],\n",
    "     ['2002', 'Zotye', '0', '0'],\n",
    "     ['2003', 'Zotye', '0', '0'],\n",
    "     ['2004', 'Zotye', '0', '0'],\n",
    "     ['2005', 'Zotye', '0', '0'],\n",
    "     ['2006', 'Zotye', '0', '0'],\n",
    "     ['2007', 'Zotye', '0', '0'],\n",
    "     ['2008', 'Zotye', '6', '6'],\n",
    "     ['2009', 'Zotye', '41', '47'],\n",
    "     ['2010', 'Zotye', '5', '52'],\n",
    "     ['2011', 'Zotye', '0', '51'],\n",
    "     ['2001', 'Others', '23', '90'],\n",
    "     ['2002', 'Others', '14', '91'],\n",
    "     ['2003', 'Others', '16', '45'],\n",
    "     ['2004', 'Others', '22', '53'],\n",
    "     ['2005', 'Others', '11', '50'],\n",
    "     ['2006', 'Others', '13', '64'],\n",
    "     ['2007', 'Others', '11', '62'],\n",
    "     ['2008', 'Others', '11', '73'],\n",
    "     ['2009', 'Others', '14', '68'],\n",
    "     ['2010', 'Others', '13', '70'],\n",
    "     ['2011', 'Others', '25', '72']]"
   ]
  },
  {
   "cell_type": "markdown",
   "metadata": {},
   "source": [
    "#### Questions\n",
    "\n",
    "1. Which car maker has the most number of new registrations(sum all of the new registrations every year for each maker) in the past years?\n",
    "2. Which maker has the greatest increase of number of new registrations from the first year to the last year? \n",
    "**Formula:  (number of new registrations in 2011 - number of new registrations in 2001)**\n",
    "3. Which car maker is the **most popular over the 10 years**? (i.e. the car maker with the most number of total population of cars over the 10 years?)\n",
    "\n",
    "For all questions, create a function that takes in the `car_brands` and **return** the desired answer"
   ]
  },
  {
   "cell_type": "code",
   "execution_count": 35,
   "metadata": {},
   "outputs": [
    {
     "name": "stdout",
     "output_type": "stream",
     "text": [
      "Toyota\n"
     ]
    }
   ],
   "source": [
    "### Question 1\n",
    "\"\"\"\n",
    "1st column: respective year\n",
    "2nd column: maker\n",
    "3rd column: new vehicle registration\n",
    "4th column: total vehicle population\n",
    "\"\"\"\n",
    "\n",
    "def answer1(brand_list):\n",
    "    q1_dict = {}\n",
    "    for a in brand_list:\n",
    "        if a[1] in q1_dict:\n",
    "            q1_dict[a[1]] += int(a[2])\n",
    "        else: \n",
    "            q1_dict[a[1]] = int(a[2])\n",
    "    \n",
    "    best_brand = ''\n",
    "    best_value = 0\n",
    "    for item in q1_dict:\n",
    "        if q1_dict[item] > best_value:\n",
    "            best_brand = item            \n",
    "            best_value = q1_dict[item]\n",
    "    return best_brand\n",
    "\n",
    "print(answer1(car_brands))"
   ]
  },
  {
   "cell_type": "code",
   "execution_count": 36,
   "metadata": {},
   "outputs": [
    {
     "name": "stdout",
     "output_type": "stream",
     "text": [
      "B.M.W.\n"
     ]
    }
   ],
   "source": [
    "### Question 2\n",
    "\"\"\"\n",
    "Which maker has the greatest increase of number of new registrations from the first year to the last year? \n",
    "Formula: (number of new registrations in 2011 - number of new registrations in 2001)\"\"\"\n",
    "\n",
    "def answer2(brand_list):\n",
    "    dictionary_2001 = {}\n",
    "    dictionary_2011 = {}\n",
    "    \n",
    "    for a in brand_list:\n",
    "        if a[0] == '2001' and a[1] not in dictionary_2001:\n",
    "            dictionary_2001[a[1]] = int(a[2])\n",
    "        elif a[0] == '2011' and a[1] not in dictionary_2011:\n",
    "            dictionary_2011[a[1]] = int(a[2])\n",
    "    \n",
    "    max_diff = 0\n",
    "    for i in dictionary_2011:\n",
    "        diff = dictionary_2011[i] - dictionary_2001[i]\n",
    "        if diff > max_diff:\n",
    "            max_diff = diff\n",
    "            max_diff_brand = i\n",
    "    \n",
    "    return max_diff_brand\n",
    "\n",
    "print(answer2(car_brands))"
   ]
  },
  {
   "cell_type": "code",
   "execution_count": 37,
   "metadata": {},
   "outputs": [
    {
     "name": "stdout",
     "output_type": "stream",
     "text": [
      "Toyota\n"
     ]
    }
   ],
   "source": [
    "### Question 3\n",
    "\"\"\"\n",
    "Which car maker is the **most popular over the 10 years**? \n",
    "(i.e. the car maker with the most number of total population of cars over the 10 years?)\"\"\"\n",
    "\n",
    "def answer3(brand_list):\n",
    "    most_pop_brand = ''\n",
    "    highest_pop = 0\n",
    "    \n",
    "    for a in brand_list:\n",
    "        if int(a[2]) > highest_pop:\n",
    "            most_pop_brand = a[1]\n",
    "            highest_pop = int(a[2])\n",
    "    return most_pop_brand\n",
    "\n",
    "print(answer3(car_brands))"
   ]
  },
  {
   "cell_type": "code",
   "execution_count": 38,
   "metadata": {},
   "outputs": [],
   "source": [
    "#In Class Quiz"
   ]
  },
  {
   "cell_type": "code",
   "execution_count": 39,
   "metadata": {},
   "outputs": [
    {
     "data": {
      "text/plain": [
       "'50'"
      ]
     },
     "execution_count": 39,
     "metadata": {},
     "output_type": "execute_result"
    }
   ],
   "source": [
    "#Q1:\n",
    "def q1(a,b):\n",
    "    c = a * b\n",
    "    return str(c)\n",
    "\n",
    "q1(5,10)"
   ]
  },
  {
   "cell_type": "code",
   "execution_count": 40,
   "metadata": {},
   "outputs": [
    {
     "data": {
      "text/plain": [
       "2.5"
      ]
     },
     "execution_count": 40,
     "metadata": {},
     "output_type": "execute_result"
    }
   ],
   "source": [
    "#Q2:\n",
    "\n",
    "def q2(money1,money2,pencil_cost):\n",
    "    a = money1 + money2\n",
    "    remainder = a % pencil_cost\n",
    "    return remainder\n",
    "\n",
    "q2(100,200,3.5)"
   ]
  },
  {
   "cell_type": "code",
   "execution_count": 41,
   "metadata": {},
   "outputs": [
    {
     "name": "stdout",
     "output_type": "stream",
     "text": [
      "True\n",
      "False\n",
      "False\n",
      "False\n",
      "False\n",
      "False\n",
      "True\n"
     ]
    }
   ],
   "source": [
    "#Q3\n",
    "\"\"\"\n",
    "We want to find out whether a given NRIC is a valid Singaporean NRIC\n",
    "For a valid Singaporean NRIC number\n",
    "-\tNeed to have 9 digits in total\n",
    "-\tStart with either “S”or “T”\n",
    "-\tStart and End with Uppercase \n",
    "Write a function that takes in 1 parameter and return whether this NRIC is a valid Singaporean NRIC (Boolean True or False)\n",
    "Test Cases\n",
    "●\tcheck(“S9420395A”) -> True\n",
    "●\tcheck(“S294853A”)  -> False\n",
    "●\tcheck(“A8385729A”) -> False\n",
    "●\tcheck(“S9420395a”) -> False\n",
    "●\tcheck(“s8294853A”)  -> False\n",
    "●\tcheck(“A8385729A”) -> False\n",
    "●\tcheck(“S8385729A”) -> True\n",
    "\"\"\"\n",
    "\n",
    "def check(nric):\n",
    "    if len(nric) != 9:\n",
    "        print(False)\n",
    "    elif nric[0] != \"S\" and nric[0] != \"T\":\n",
    "        print(False)\n",
    "    elif nric[0].isupper() and nric[-1].isupper():\n",
    "        print(True)\n",
    "    else: \n",
    "        print(False)\n",
    "check(\"S9420395A\")\n",
    "check(\"S294853A\") \n",
    "check(\"A8385729A\")\n",
    "check(\"S9420395a\")\n",
    "check(\"s8294853A\") \n",
    "check(\"A8385729A\")\n",
    "check(\"S8385729A\")    "
   ]
  },
  {
   "cell_type": "code",
   "execution_count": 42,
   "metadata": {},
   "outputs": [],
   "source": [
    "#Homework"
   ]
  },
  {
   "cell_type": "code",
   "execution_count": 43,
   "metadata": {},
   "outputs": [],
   "source": [
    "#Q1 define your function and name it add1\n",
    "def add1(x):\n",
    "    return x +1"
   ]
  },
  {
   "cell_type": "code",
   "execution_count": 44,
   "metadata": {},
   "outputs": [
    {
     "data": {
      "text/plain": [
       "25.4"
      ]
     },
     "execution_count": 44,
     "metadata": {},
     "output_type": "execute_result"
    }
   ],
   "source": [
    "\"\"\"The formula for BMI  = weight divided by the meter square of height.\n",
    "Write a function called calculate_bmi which takes in 2 arguments (weight in kg and height in m) \n",
    "and returns the BMI correct to 1 decimal place.\n",
    "#Write your function below\n",
    "#Write a function called calculate_bmi which takes in 2 arguments (weight in kg and height in m) \n",
    "and returns the BMI correct to 1 decimal place.\n",
    "\"\"\"\n",
    "\n",
    "def calculate_bmi(weight,height):\n",
    "    a = weight / (height*height)\n",
    "    return round(a,1)\n",
    "\n",
    "calculate_bmi(75, 1.72)"
   ]
  },
  {
   "cell_type": "code",
   "execution_count": 45,
   "metadata": {},
   "outputs": [
    {
     "name": "stdout",
     "output_type": "stream",
     "text": [
      "0\n",
      "2699\n"
     ]
    }
   ],
   "source": [
    "\"\"\"\n",
    "Given the tax rates below, write a function, tax_payable, that returns the total amount of payable tax. \n",
    "Round down the final total sum of tax to nearest integer.\n",
    "Monthly tax rate\n",
    "For monthly income of below 1500: no tax will be incurred\n",
    "For monthly income of 1500 - 2999: 10% tax\n",
    "For monthly income of 3000 - 7999: 20% tax\n",
    "For monthly income of 8000  and above: 30% tax\"\"\"\n",
    "\n",
    "def tax_payable(income):\n",
    "    if income < 1500:\n",
    "        return 0\n",
    "    elif income < 3000:\n",
    "        return int(income * 0.1)\n",
    "    elif income < 8000:\n",
    "        return int(income * 0.2)\n",
    "    else:\n",
    "        return int(income * 0.3)\n",
    "\n",
    "\n",
    "print(tax_payable(1000))\n",
    "print(tax_payable(8999))"
   ]
  },
  {
   "cell_type": "code",
   "execution_count": 46,
   "metadata": {},
   "outputs": [
    {
     "name": "stdout",
     "output_type": "stream",
     "text": [
      "500\n",
      "500\n"
     ]
    }
   ],
   "source": [
    "#### DO NOT EDIT##############################################################################################################################\n",
    "\n",
    "first_buses = [['ServiceNo', 'Operator', 'Direction', 'StopSequence', 'BusStopCode', 'RoadName', 'Description', 'Latitude', 'Longitude', 'Distance', 'WD_FirstBus', 'WD_LastBus', 'SAT_FirstBus', 'SAT_LastBus', 'SUN_FirstBus', 'SUN_LastBus'], ['10', 'SBST', '1', '1', '75009', 'Tampines Ctrl 1', 'Tampines Int', '1.354075524', '103.943391', '0', 500, 2300, 500, 2300, 500, '2300'], ['100', 'SBST', '1', '1', '66009', \"S'goon Ave 2\", \"S'Goon Int\", '1.350466102', '103.8716899', '0', 530, 2345, 530, 2345, 530, '2345'], ['100A', 'SBST', '1', '1', '66009', \"S'goon Ave 2\", \"S'Goon Int\", '1.350466102', '103.8716899', '0', 639, 1934, 9999, 9999, 9999, '9999'], ['101', 'SBST', '1', '1', '66009', \"S'goon Ave 2\", \"S'Goon Int\", '1.350466102', '103.8716899', '0', 515, 2400, 515, 2400, 515, '2400'], ['102', 'SBST', '1', '1', '64009', 'Hougang Ctrl', 'Hougang Ctrl Int', '1.370606954', '103.8926681', '0', 545, 2330, 545, 2330, 545, '2330'], ['103', 'SBST', '1', '1', '66009', \"S'goon Ave 2\", \"S'Goon Int\", '1.350466102', '103.8716899', '0', 600, 15, 600, 2400, 600, '2400'], ['105', 'SBST', '1', '1', '66009', \"S'goon Ave 2\", \"S'Goon Int\", '1.350466102', '103.8716899', '0', 545, 2400, 545, 2400, 600, '2400'], ['105B', 'SBST', '1', '1', '28009', 'Jurong Gateway Rd', 'Jurong East Temp Int', '1.333408188', '103.7415425', '0', 651, 719, 9999, 9999, 9999, '9999'], ['106', 'TTS', '1', '1', '43009', 'Bt Batok Ctrl', 'Bt Batok Int', '1.349993543', '103.7510619', '0', 530, 2330, 530, 2330, 530, '2330'], ['106A', 'TTS', '1', '1', '43009', 'Bt Batok Ctrl', 'Bt Batok Int', '1.349993543', '103.7510619', '0', 641, 848, 9999, 9999, 9999, '9999'], ['107', 'SBST', '1', '1', '64009', 'Hougang Ctrl', 'Hougang Ctrl Int', '1.370606954', '103.8926681', '0', 530, 1930, 530, 1330, 9999, '9999'], ['107M', 'SBST', '1', '1', '64009', 'Hougang Ctrl', 'Hougang Ctrl Int', '1.370606954', '103.8926681', '0', 1950, 2315, 1343, 2315, 545, '2315'], ['109', 'SBST', '1', '1', '66009', \"S'goon Ave 2\", \"S'Goon Int\", '1.350466102', '103.8716899', '0', 545, 2330, 600, 2330, 600, '2330'], ['109A', 'SBST', '1', '1', '66009', \"S'goon Ave 2\", \"S'Goon Int\", '1.350466102', '103.8716899', '0', 1810, 2011, 9999, 9999, 9999, '9999'], ['10e', 'SBST', '1', '1', '85049', 'Bedok Rd', 'Opp Man Fatt Lam Tp', '1.326719987', '103.9512487', '0', 730, 814, 9999, 9999, 9999, '9999'], ['11', 'SBST', '1', '1', '80009', 'Lor 1 Geylang', 'Lor 1 Geylang Ter', '1.311164222', '103.8721634', '0', 600, 2330, 600, 2330, 600, '2330'], ['110', 'SMRT', '1', '1', '67759', 'Compassvale Rd', 'COMPASSVALE INT', '1.391295223', '103.8972022', '0', 530, 2345, 530, 2345, 530, '2345'], ['111', 'SBST', '1', '1', '11009', 'Ghim Moh Rd', 'Ghim Moh Ter', '1.311067355', '103.7893224', '0', 600, 2400, 600, 2400, 600, '2400'], ['112', 'SBST', '1', '1', '64009', 'Hougang Ctrl', 'Hougang Ctrl Int', '1.370606954', '103.8926681', '0', 515, 2400, 515, 2400, 515, '2400'], ['113', 'SBST', '1', '1', '64009', 'Hougang Ctrl', 'Hougang Ctrl Int', '1.370606954', '103.8926681', '0', 520, 10, 520, 10, 520, '10'], ['113A', 'SBST', '1', '1', '63039', \"Upp S'goon Rd\", 'Kovan Stn Exit C', '1.36026', '103.8853842', '0', 1757, 1929, 9999, 9999, 9999, '9999'], ['115', 'SBST', '1', '1', '63221', 'Hougang St 21', 'KOVAN HUB', '1.357993279', '103.8855064', '0', 715, 1815, 715, 1815, 715, '1815'], ['116', 'SBST', '1', '1', '64009', 'Hougang Ctrl', 'Hougang Ctrl Int', '1.370606954', '103.8926681', '0', 545, 2330, 545, 2330, 545, '2330'], ['117', 'SBST', '1', '1', '65009', 'Punggol Pl', 'Punggol Temp Int', '1.403706299', '103.9022434', '0', 545, 2330, 545, 2330, 545, '2330'], ['118', 'GAS', '1', '1', '65009', 'Punggol Pl', 'Punggol Temp Int', '1.403706299', '103.9022434', '0', 545, 2330, 545, 2330, 545, '2330'], ['119', 'GAS', '1', '1', '65009', 'Punggol Pl', 'Punggol Temp Int', '1.403706299', '103.9022434', '0', 500, 2330, 505, 2330, 550, '2330'], ['12', 'GAS', '1', '1', '77009', 'Pasir Ris Dr 3', 'Pasir Ris Int', '1.37370753', '103.9495759', '0', 530, 2330, 530, 2330, 530, '2330'], ['120', 'SBST', '1', '1', '10499', 'Spooner Rd', 'KAMPONG BAHRU TER', '1.275854004', '103.83401', '0', 555, 2330, 555, 2330, 555, '2330'], ['121', 'SBST', '1', '1', '10499', 'Spooner Rd', 'KAMPONG BAHRU TER', '1.275854004', '103.83401', '0', 555, 2330, 555, 2330, 555, '2330']]\n",
    "\n",
    "#### Input your answers below ##############################################################################################################################\n",
    "#input your codes below\n",
    "def earliest_buses_of_day(day):\n",
    "    if day == \"weekday\":\n",
    "        col = 10\n",
    "    elif day == \"saturday\":\n",
    "        col = 12\n",
    "    elif day == \"sunday\":\n",
    "        col = 14\n",
    "    else:\n",
    "        return \"day out of range\"\n",
    "    earliest = 9999\n",
    "    for row in first_buses[1:]:\n",
    "        if row[col] < earliest:\n",
    "            earliest = row[col]\n",
    "    return earliest\n",
    "\n",
    "print(earliest_buses_of_day(\"weekday\"))\n",
    "print(earliest_buses_of_day(\"sunday\"))"
   ]
  },
  {
   "cell_type": "code",
   "execution_count": 47,
   "metadata": {},
   "outputs": [
    {
     "name": "stdout",
     "output_type": "stream",
     "text": [
      "A\n",
      "B\n",
      "C\n",
      "FAIL\n"
     ]
    }
   ],
   "source": [
    "scores = {\"Patrick\":77, \"John\" : 64, \"Selina\" : 59, \"James\":40 , \"Louis\": 88}\n",
    "\n",
    "def grade(name):\n",
    "    result = scores[name]\n",
    "    if result > 75:\n",
    "        return \"A\"\n",
    "    elif result > 60:\n",
    "        return \"B\"\n",
    "    elif result > 50:\n",
    "        return \"C\"\n",
    "    else:\n",
    "        return \"FAIL\"\n",
    "    \n",
    "print(grade(\"Patrick\"))\n",
    "print(grade(\"John\"))\n",
    "print(grade(\"Selina\"))\n",
    "print(grade(\"James\"))"
   ]
  },
  {
   "cell_type": "code",
   "execution_count": 48,
   "metadata": {},
   "outputs": [
    {
     "data": {
      "text/plain": [
       "function"
      ]
     },
     "execution_count": 48,
     "metadata": {},
     "output_type": "execute_result"
    }
   ],
   "source": [
    "type(grade)"
   ]
  },
  {
   "cell_type": "code",
   "execution_count": 49,
   "metadata": {},
   "outputs": [],
   "source": [
    "bus_routes = [\n",
    "['ServiceNo', 'Operator', 'Direction', 'StopSequence', 'BusStopCode'],\n",
    "['11', 'SBST', '1', '1', '75008'],\n",
    "['11', 'SBST', '1', '2', '75018'],\n",
    "['11', 'SBST', '1', '3', '75108'],\n",
    "['A', 'SBST', '1', '1', '75009'],\n",
    "['A', 'SBST', '1', '2', '75008'],\n",
    "['A', 'SBST', '1', '3', '75010'],\n",
    "['1', 'SBST', '1', '1', '75210'],    \n",
    "['A', 'SBST', '1', '4', '75011'],\n",
    "['2', 'SBST', '1', '1', '75011'],\n",
    "['2', 'SBST', '1', '2', '888']\n",
    "]"
   ]
  },
  {
   "cell_type": "code",
   "execution_count": 50,
   "metadata": {},
   "outputs": [
    {
     "data": {
      "text/plain": [
       "'A'"
      ]
     },
     "execution_count": 50,
     "metadata": {},
     "output_type": "execute_result"
    }
   ],
   "source": [
    "def most_stops():\n",
    "    stop_count = {}\n",
    "    for row in bus_routes[1:]:\n",
    "        svc_no = row[0]\n",
    "        if svc_no in stop_count:\n",
    "            stop_count[svc_no] += 1\n",
    "        else:\n",
    "            stop_count[svc_no] = 1\n",
    "    a = (sorted(stop_count, key=stop_count.__getitem__))\n",
    "    b = a[-1]\n",
    "    return(b)\n",
    "\n",
    "most_stops()\n"
   ]
  },
  {
   "cell_type": "code",
   "execution_count": 51,
   "metadata": {},
   "outputs": [
    {
     "data": {
      "text/plain": [
       "'A'"
      ]
     },
     "execution_count": 51,
     "metadata": {},
     "output_type": "execute_result"
    }
   ],
   "source": [
    "def most_stops2():\n",
    "    stop_count2 = {}\n",
    "    for row in bus_routes[1:]:\n",
    "        svc_no = row[0]\n",
    "        if svc_no in stop_count2:\n",
    "            stop_count2[svc_no] += 1\n",
    "        else:\n",
    "            stop_count2[svc_no] = 1\n",
    "    highest_count = 0\n",
    "    answer = \"none\"\n",
    "    for key in stop_count2:\n",
    "        if stop_count2[key] > highest_count:\n",
    "            highest_count = stop_count2[key]\n",
    "            answer = key\n",
    "    return answer \n",
    "\n",
    "most_stops2()"
   ]
  }
 ],
 "metadata": {
  "kernelspec": {
   "display_name": "Python 3",
   "language": "python",
   "name": "python3"
  },
  "language_info": {
   "codemirror_mode": {
    "name": "ipython",
    "version": 3
   },
   "file_extension": ".py",
   "mimetype": "text/x-python",
   "name": "python",
   "nbconvert_exporter": "python",
   "pygments_lexer": "ipython3",
   "version": "3.6.4"
  }
 },
 "nbformat": 4,
 "nbformat_minor": 2
}
